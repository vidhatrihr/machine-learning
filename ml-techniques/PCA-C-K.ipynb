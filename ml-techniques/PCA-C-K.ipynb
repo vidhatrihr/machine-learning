{
 "cells": [
  {
   "cell_type": "code",
   "execution_count": 3,
   "id": "98982500",
   "metadata": {},
   "outputs": [],
   "source": [
    "import numpy as np\n",
    "import matplotlib.pyplot as plt"
   ]
  },
  {
   "cell_type": "code",
   "execution_count": 4,
   "id": "d6887a90",
   "metadata": {},
   "outputs": [
    {
     "data": {
      "text/plain": [
       "(2, 500)"
      ]
     },
     "execution_count": 4,
     "metadata": {},
     "output_type": "execute_result"
    },
    {
     "data": {
      "image/png": "[encoded data removed]",
      "text/plain": [
       "<Figure size 640x480 with 1 Axes>"
      ]
     },
     "metadata": {},
     "output_type": "display_data"
    }
   ],
   "source": [
    "np.random.seed(0)\n",
    "\n",
    "mean = [100, 150]\n",
    "cov = [[400, 350],\n",
    "       [350, 400]]\n",
    "\n",
    "X = np.random.multivariate_normal(mean, cov, size=500).T\n",
    "X = X - X.mean(axis=1, keepdims=True)\n",
    "\n",
    "X.shape\n",
    "_ = plt.scatter(*X)"
   ]
  },
  {
   "cell_type": "markdown",
   "id": "41b6aec2",
   "metadata": {},
   "source": [
    "## Finding PCs using `C = XX'/n` approach"
   ]
  },
  {
   "cell_type": "code",
   "execution_count": 5,
   "id": "4cf9998f",
   "metadata": {},
   "outputs": [
    {
     "data": {
      "text/plain": [
       "(2, 2)"
      ]
     },
     "execution_count": 5,
     "metadata": {},
     "output_type": "execute_result"
    }
   ],
   "source": [
    "n = X.shape[1]\n",
    "C = X @ X.T / n\n",
    "C.shape"
   ]
  },
  {
   "cell_type": "code",
   "execution_count": 6,
   "id": "93887dd1",
   "metadata": {},
   "outputs": [
    {
     "data": {
      "text/plain": [
       "array([710.85000857,  49.98748657])"
      ]
     },
     "execution_count": 6,
     "metadata": {},
     "output_type": "execute_result"
    },
    {
     "data": {
      "text/plain": [
       "array([[ 0.70498801, -0.70921922],\n",
       "       [ 0.70921922,  0.70498801]])"
      ]
     },
     "execution_count": 6,
     "metadata": {},
     "output_type": "execute_result"
    }
   ],
   "source": [
    "eigenvalues, eigenvectors = np.linalg.eigh(C)\n",
    "\n",
    "sorted_indices = np.argsort(eigenvalues)[::-1]\n",
    "eigenvalues = eigenvalues[sorted_indices]\n",
    "eigenvectors = eigenvectors[:, sorted_indices]\n",
    "\n",
    "eigenvalues\n",
    "eigenvectors"
   ]
  },
  {
   "cell_type": "markdown",
   "id": "165e28a9",
   "metadata": {},
   "source": [
    "## Finding PCs using `K = X'X` approach"
   ]
  },
  {
   "cell_type": "code",
   "execution_count": 15,
   "id": "1b4b0066",
   "metadata": {},
   "outputs": [
    {
     "data": {
      "text/plain": [
       "(500, 500)"
      ]
     },
     "execution_count": 15,
     "metadata": {},
     "output_type": "execute_result"
    }
   ],
   "source": [
    "K = X.T @ X\n",
    "K.shape"
   ]
  },
  {
   "cell_type": "code",
   "execution_count": 20,
   "id": "09f177af",
   "metadata": {},
   "outputs": [
    {
     "data": {
      "text/plain": [
       "(500,)"
      ]
     },
     "execution_count": 20,
     "metadata": {},
     "output_type": "execute_result"
    },
    {
     "data": {
      "text/plain": [
       "(500, 500)"
      ]
     },
     "execution_count": 20,
     "metadata": {},
     "output_type": "execute_result"
    }
   ],
   "source": [
    "n_lambdas, betas = np.linalg.eigh(K)\n",
    "sorted_indices = np.argsort(n_lambdas)[::-1]\n",
    "n_lambdas = n_lambdas[sorted_indices]\n",
    "betas = betas[:, sorted_indices]\n",
    "\n",
    "n_lambdas.shape\n",
    "betas.shape"
   ]
  },
  {
   "cell_type": "code",
   "execution_count": 25,
   "id": "87cb850f",
   "metadata": {},
   "outputs": [
    {
     "data": {
      "text/plain": [
       "(2,)"
      ]
     },
     "execution_count": 25,
     "metadata": {},
     "output_type": "execute_result"
    },
    {
     "data": {
      "text/plain": [
       "(500, 2)"
      ]
     },
     "execution_count": 25,
     "metadata": {},
     "output_type": "execute_result"
    }
   ],
   "source": [
    "count_nonzero = min(X.shape)\n",
    "n_lambdas = n_lambdas[:count_nonzero]\n",
    "betas = betas[:, :count_nonzero]\n",
    "\n",
    "n_lambdas.shape\n",
    "betas.shape"
   ]
  },
  {
   "cell_type": "code",
   "execution_count": 30,
   "id": "82207ec0",
   "metadata": {},
   "outputs": [
    {
     "data": {
      "text/plain": [
       "(500, 2)"
      ]
     },
     "execution_count": 30,
     "metadata": {},
     "output_type": "execute_result"
    }
   ],
   "source": [
    "alphas = betas / np.sqrt(n_lambdas).reshape(1, -1)\n",
    "alphas.shape"
   ]
  },
  {
   "cell_type": "code",
   "execution_count": 33,
   "id": "5a77bbee",
   "metadata": {},
   "outputs": [
    {
     "data": {
      "text/plain": [
       "array([710.85000857,  49.98748657])"
      ]
     },
     "execution_count": 33,
     "metadata": {},
     "output_type": "execute_result"
    },
    {
     "data": {
      "text/plain": [
       "array([[ 0.70498801, -0.70921922],\n",
       "       [ 0.70921922,  0.70498801]])"
      ]
     },
     "execution_count": 33,
     "metadata": {},
     "output_type": "execute_result"
    },
    {
     "data": {
      "text/plain": [
       "array([710.85000857,  49.98748657])"
      ]
     },
     "execution_count": 33,
     "metadata": {},
     "output_type": "execute_result"
    },
    {
     "data": {
      "text/plain": [
       "array([[ 0.70498801,  0.70921922],\n",
       "       [ 0.70921922, -0.70498801]])"
      ]
     },
     "execution_count": 33,
     "metadata": {},
     "output_type": "execute_result"
    }
   ],
   "source": [
    "eigenvalues_ = n_lambdas / n\n",
    "eigenvectors_ = X @ alphas\n",
    "\n",
    "# from C = XX'/n approach\n",
    "eigenvalues\n",
    "eigenvectors\n",
    "\n",
    "# from K = X'X approach\n",
    "eigenvalues_\n",
    "eigenvectors_"
   ]
  },
  {
   "cell_type": "code",
   "execution_count": 36,
   "id": "c4948f93",
   "metadata": {},
   "outputs": [],
   "source": [
    "eigenvalues = eigenvalues_\n",
    "eigenvectors = eigenvectors_"
   ]
  },
  {
   "cell_type": "markdown",
   "id": "38086efa",
   "metadata": {},
   "source": [
    "## Rest is same for both approaches"
   ]
  },
  {
   "cell_type": "code",
   "execution_count": 37,
   "id": "de62ae40",
   "metadata": {},
   "outputs": [
    {
     "data": {
      "text/plain": [
       "array([0.93429939, 1.        ])"
      ]
     },
     "execution_count": 37,
     "metadata": {},
     "output_type": "execute_result"
    }
   ],
   "source": [
    "np.cumsum(eigenvalues) / sum(eigenvalues)"
   ]
  },
  {
   "cell_type": "code",
   "execution_count": 47,
   "id": "43c09e80",
   "metadata": {},
   "outputs": [
    {
     "data": {
      "text/plain": [
       "array([[0.70498801],\n",
       "       [0.70921922]])"
      ]
     },
     "execution_count": 47,
     "metadata": {},
     "output_type": "execute_result"
    }
   ],
   "source": [
    "k = 1\n",
    "W = eigenvectors[:, :k]\n",
    "W"
   ]
  },
  {
   "cell_type": "code",
   "execution_count": 48,
   "id": "0c8eb071",
   "metadata": {},
   "outputs": [
    {
     "data": {
      "text/plain": [
       "(500, 1)"
      ]
     },
     "execution_count": 48,
     "metadata": {},
     "output_type": "execute_result"
    }
   ],
   "source": [
    "coefficients = X.T @ W\n",
    "coefficients.shape"
   ]
  },
  {
   "cell_type": "code",
   "execution_count": 49,
   "id": "6f526738",
   "metadata": {},
   "outputs": [
    {
     "data": {
      "text/plain": [
       "(2, 500)"
      ]
     },
     "execution_count": 49,
     "metadata": {},
     "output_type": "execute_result"
    }
   ],
   "source": [
    "X_ = (coefficients @ W.T).T\n",
    "X_.shape"
   ]
  },
  {
   "cell_type": "code",
   "execution_count": 50,
   "id": "630f8377",
   "metadata": {},
   "outputs": [
    {
     "data": {
      "text/plain": [
       "np.float64(4.999374289343242)"
      ]
     },
     "execution_count": 50,
     "metadata": {},
     "output_type": "execute_result"
    }
   ],
   "source": [
    "np.sqrt(np.mean((X - X_) ** 2))  # rmse"
   ]
  },
  {
   "cell_type": "code",
   "execution_count": 51,
   "id": "607e1f61",
   "metadata": {},
   "outputs": [
    {
     "data": {
      "image/png": "[encoded data removed]",
      "text/plain": [
       "<Figure size 640x480 with 1 Axes>"
      ]
     },
     "metadata": {},
     "output_type": "display_data"
    }
   ],
   "source": [
    "_ = plt.scatter(*X, color='k')\n",
    "_ = plt.scatter(*X_, marker='+', s=200)"
   ]
  },
  {
   "cell_type": "code",
   "execution_count": 52,
   "id": "3eb574e1",
   "metadata": {},
   "outputs": [
    {
     "data": {
      "image/png": "[encoded data removed]",
      "text/plain": [
       "<Figure size 640x480 with 1 Axes>"
      ]
     },
     "metadata": {},
     "output_type": "display_data"
    }
   ],
   "source": [
    "if k == 1:\n",
    "  _ = plt.scatter(coefficients.T, [0]*n)\n",
    "\n",
    "if k == 2:\n",
    "  _ = plt.scatter(*coefficients.T)\n",
    "\n",
    "_ = plt.ylim((-80, 80))"
   ]
  }
 ],
 "metadata": {
  "kernelspec": {
   "display_name": "Python 3",
   "language": "python",
   "name": "python3"
  },
  "language_info": {
   "codemirror_mode": {
    "name": "ipython",
    "version": 3
   },
   "file_extension": ".py",
   "mimetype": "text/x-python",
   "name": "python",
   "nbconvert_exporter": "python",
   "pygments_lexer": "ipython3",
   "version": "3.12.6"
  }
 },
 "nbformat": 4,
 "nbformat_minor": 5
}
